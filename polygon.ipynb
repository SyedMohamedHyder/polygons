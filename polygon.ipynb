{
 "cells": [
  {
   "cell_type": "code",
   "execution_count": 2,
   "metadata": {},
   "outputs": [],
   "source": [
    "class Polygon:\n",
    "    \n",
    "    def __init__(self, edges, radius):\n",
    "        \n",
    "        self._edges = None\n",
    "        self._radius = None\n",
    "        \n",
    "        self.edges = edges\n",
    "        self.radius = radius\n",
    "        \n",
    "    @property\n",
    "    def edges(self):\n",
    "        return self._edges\n",
    "    \n",
    "    @edges.setter\n",
    "    def edges(self, value):\n",
    "        if not isinstance(value, int):\n",
    "            raise TypeError('Number of edges should only be integers')\n",
    "        elif value < 3 :\n",
    "            raise ValueError('There must be atleast 3 edges')\n",
    "        else:\n",
    "            self._edges = value\n",
    "            \n",
    "    @property\n",
    "    def radius(self):\n",
    "        return self._radius\n",
    "    \n",
    "    @radius.setter\n",
    "    def radius(self, value):\n",
    "        if value <= 0 :\n",
    "            raise ValueError('Circumradius can only be positive')\n",
    "        else:\n",
    "            self._radius = value\n",
    "            \n",
    "    def __repr__(self):\n",
    "        return f'{self.__class__.__name__}(edges={self.edges}, radius={self.radius})'"
   ]
  },
  {
   "cell_type": "code",
   "execution_count": 3,
   "metadata": {},
   "outputs": [],
   "source": [
    "p1 = Polygon(3,3)"
   ]
  },
  {
   "cell_type": "code",
   "execution_count": 4,
   "metadata": {},
   "outputs": [
    {
     "data": {
      "text/plain": [
       "Polygon(edges=3, radius=3)"
      ]
     },
     "execution_count": 4,
     "metadata": {},
     "output_type": "execute_result"
    }
   ],
   "source": [
    "p1"
   ]
  },
  {
   "cell_type": "code",
   "execution_count": 5,
   "metadata": {},
   "outputs": [],
   "source": [
    "p2 = Polygon(3, 10)"
   ]
  },
  {
   "cell_type": "code",
   "execution_count": 6,
   "metadata": {},
   "outputs": [
    {
     "data": {
      "text/plain": [
       "Polygon(edges=3, radius=10)"
      ]
     },
     "execution_count": 6,
     "metadata": {},
     "output_type": "execute_result"
    }
   ],
   "source": [
    "p2"
   ]
  },
  {
   "cell_type": "code",
   "execution_count": 7,
   "metadata": {},
   "outputs": [],
   "source": [
    "p1.edges = 5"
   ]
  },
  {
   "cell_type": "code",
   "execution_count": 8,
   "metadata": {},
   "outputs": [
    {
     "data": {
      "text/plain": [
       "Polygon(edges=5, radius=3)"
      ]
     },
     "execution_count": 8,
     "metadata": {},
     "output_type": "execute_result"
    }
   ],
   "source": [
    "p1"
   ]
  },
  {
   "cell_type": "code",
   "execution_count": 11,
   "metadata": {},
   "outputs": [],
   "source": [
    "p3 = Polygon(3,10)"
   ]
  },
  {
   "cell_type": "code",
   "execution_count": 12,
   "metadata": {},
   "outputs": [
    {
     "data": {
      "text/plain": [
       "(Polygon(edges=3, radius=10), Polygon(edges=5, radius=3))"
      ]
     },
     "execution_count": 12,
     "metadata": {},
     "output_type": "execute_result"
    }
   ],
   "source": [
    "p3 , p1"
   ]
  },
  {
   "cell_type": "code",
   "execution_count": 13,
   "metadata": {},
   "outputs": [],
   "source": [
    "class Polygon:\n",
    "    \n",
    "    def __init__(self, edges, radius):\n",
    "        \n",
    "        self._edges = None\n",
    "        self._radius = None\n",
    "        \n",
    "        self.edges = edges\n",
    "        self.radius = radius\n",
    "        \n",
    "    @property\n",
    "    def edges(self):\n",
    "        return self._edges\n",
    "    \n",
    "    @edges.setter\n",
    "    def edges(self, value):\n",
    "        if not isinstance(value, int):\n",
    "            raise TypeError('Number of edges should only be integers')\n",
    "        elif value < 3 :\n",
    "            raise ValueError('There must be atleast 3 edges')\n",
    "        else:\n",
    "            self._edges = value\n",
    "            \n",
    "    @property\n",
    "    def radius(self):\n",
    "        return self._radius\n",
    "    \n",
    "    @radius.setter\n",
    "    def radius(self, value):\n",
    "        if value <= 0 :\n",
    "            raise ValueError('Circumradius can only be positive')\n",
    "        else:\n",
    "            self._radius = value\n",
    "            \n",
    "    @property\n",
    "    def vertices(self):\n",
    "        return self.edges\n",
    "            \n",
    "    def __repr__(self):\n",
    "        return f'{self.__class__.__name__}(edges={self.edges}, radius={self.radius})'"
   ]
  },
  {
   "cell_type": "code",
   "execution_count": 14,
   "metadata": {},
   "outputs": [],
   "source": [
    "p1 = Polygon(3,1)"
   ]
  },
  {
   "cell_type": "code",
   "execution_count": 15,
   "metadata": {},
   "outputs": [
    {
     "data": {
      "text/plain": [
       "3"
      ]
     },
     "execution_count": 15,
     "metadata": {},
     "output_type": "execute_result"
    }
   ],
   "source": [
    "p1.vertices"
   ]
  },
  {
   "cell_type": "code",
   "execution_count": 16,
   "metadata": {},
   "outputs": [
    {
     "data": {
      "text/plain": [
       "1"
      ]
     },
     "execution_count": 16,
     "metadata": {},
     "output_type": "execute_result"
    }
   ],
   "source": [
    "p1.radius"
   ]
  },
  {
   "cell_type": "code",
   "execution_count": 17,
   "metadata": {},
   "outputs": [],
   "source": [
    "p1.edges = 10"
   ]
  },
  {
   "cell_type": "code",
   "execution_count": 18,
   "metadata": {},
   "outputs": [
    {
     "data": {
      "text/plain": [
       "Polygon(edges=10, radius=1)"
      ]
     },
     "execution_count": 18,
     "metadata": {},
     "output_type": "execute_result"
    }
   ],
   "source": [
    "p1"
   ]
  },
  {
   "cell_type": "code",
   "execution_count": 19,
   "metadata": {},
   "outputs": [
    {
     "ename": "TypeError",
     "evalue": "Number of edges should only be integers",
     "output_type": "error",
     "traceback": [
      "\u001b[1;31m---------------------------------------------------------------------------\u001b[0m",
      "\u001b[1;31mTypeError\u001b[0m                                 Traceback (most recent call last)",
      "\u001b[1;32m<ipython-input-19-3f8e57f96f54>\u001b[0m in \u001b[0;36m<module>\u001b[1;34m\u001b[0m\n\u001b[1;32m----> 1\u001b[1;33m \u001b[0mp2\u001b[0m \u001b[1;33m=\u001b[0m \u001b[0mPolygon\u001b[0m\u001b[1;33m(\u001b[0m\u001b[1;36m0.1\u001b[0m\u001b[1;33m,\u001b[0m\u001b[1;36m0\u001b[0m\u001b[1;33m)\u001b[0m\u001b[1;33m\u001b[0m\u001b[1;33m\u001b[0m\u001b[0m\n\u001b[0m",
      "\u001b[1;32m<ipython-input-13-0038aed41bf6>\u001b[0m in \u001b[0;36m__init__\u001b[1;34m(self, edges, radius)\u001b[0m\n\u001b[0;32m      6\u001b[0m         \u001b[0mself\u001b[0m\u001b[1;33m.\u001b[0m\u001b[0m_radius\u001b[0m \u001b[1;33m=\u001b[0m \u001b[1;32mNone\u001b[0m\u001b[1;33m\u001b[0m\u001b[1;33m\u001b[0m\u001b[0m\n\u001b[0;32m      7\u001b[0m \u001b[1;33m\u001b[0m\u001b[0m\n\u001b[1;32m----> 8\u001b[1;33m         \u001b[0mself\u001b[0m\u001b[1;33m.\u001b[0m\u001b[0medges\u001b[0m \u001b[1;33m=\u001b[0m \u001b[0medges\u001b[0m\u001b[1;33m\u001b[0m\u001b[1;33m\u001b[0m\u001b[0m\n\u001b[0m\u001b[0;32m      9\u001b[0m         \u001b[0mself\u001b[0m\u001b[1;33m.\u001b[0m\u001b[0mradius\u001b[0m \u001b[1;33m=\u001b[0m \u001b[0mradius\u001b[0m\u001b[1;33m\u001b[0m\u001b[1;33m\u001b[0m\u001b[0m\n\u001b[0;32m     10\u001b[0m \u001b[1;33m\u001b[0m\u001b[0m\n",
      "\u001b[1;32m<ipython-input-13-0038aed41bf6>\u001b[0m in \u001b[0;36medges\u001b[1;34m(self, value)\u001b[0m\n\u001b[0;32m     16\u001b[0m     \u001b[1;32mdef\u001b[0m \u001b[0medges\u001b[0m\u001b[1;33m(\u001b[0m\u001b[0mself\u001b[0m\u001b[1;33m,\u001b[0m \u001b[0mvalue\u001b[0m\u001b[1;33m)\u001b[0m\u001b[1;33m:\u001b[0m\u001b[1;33m\u001b[0m\u001b[1;33m\u001b[0m\u001b[0m\n\u001b[0;32m     17\u001b[0m         \u001b[1;32mif\u001b[0m \u001b[1;32mnot\u001b[0m \u001b[0misinstance\u001b[0m\u001b[1;33m(\u001b[0m\u001b[0mvalue\u001b[0m\u001b[1;33m,\u001b[0m \u001b[0mint\u001b[0m\u001b[1;33m)\u001b[0m\u001b[1;33m:\u001b[0m\u001b[1;33m\u001b[0m\u001b[1;33m\u001b[0m\u001b[0m\n\u001b[1;32m---> 18\u001b[1;33m             \u001b[1;32mraise\u001b[0m \u001b[0mTypeError\u001b[0m\u001b[1;33m(\u001b[0m\u001b[1;34m'Number of edges should only be integers'\u001b[0m\u001b[1;33m)\u001b[0m\u001b[1;33m\u001b[0m\u001b[1;33m\u001b[0m\u001b[0m\n\u001b[0m\u001b[0;32m     19\u001b[0m         \u001b[1;32melif\u001b[0m \u001b[0mvalue\u001b[0m \u001b[1;33m<\u001b[0m \u001b[1;36m3\u001b[0m \u001b[1;33m:\u001b[0m\u001b[1;33m\u001b[0m\u001b[1;33m\u001b[0m\u001b[0m\n\u001b[0;32m     20\u001b[0m             \u001b[1;32mraise\u001b[0m \u001b[0mValueError\u001b[0m\u001b[1;33m(\u001b[0m\u001b[1;34m'There must be atleast 3 edges'\u001b[0m\u001b[1;33m)\u001b[0m\u001b[1;33m\u001b[0m\u001b[1;33m\u001b[0m\u001b[0m\n",
      "\u001b[1;31mTypeError\u001b[0m: Number of edges should only be integers"
     ]
    }
   ],
   "source": [
    "p2 = Polygon(0.1,0)"
   ]
  },
  {
   "cell_type": "code",
   "execution_count": 20,
   "metadata": {},
   "outputs": [],
   "source": [
    "import math\n",
    "class Polygon:\n",
    "    \n",
    "    def __init__(self, edges, radius):\n",
    "        \n",
    "        self._edges = None\n",
    "        self._radius = None\n",
    "        \n",
    "        self.edges = edges\n",
    "        self.radius = radius\n",
    "        \n",
    "    @property\n",
    "    def edges(self):\n",
    "        return self._edges\n",
    "    \n",
    "    @edges.setter\n",
    "    def edges(self, value):\n",
    "        if not isinstance(value, int):\n",
    "            raise TypeError('Number of edges should only be integers')\n",
    "        elif value < 3 :\n",
    "            raise ValueError('There must be atleast 3 edges')\n",
    "        else:\n",
    "            self._edges = value\n",
    "            \n",
    "    @property\n",
    "    def radius(self):\n",
    "        return self._radius\n",
    "    \n",
    "    @radius.setter\n",
    "    def radius(self, value):\n",
    "        if value <= 0 :\n",
    "            raise ValueError('Circumradius can only be positive')\n",
    "        else:\n",
    "            self._radius = value\n",
    "            \n",
    "    @property\n",
    "    def vertices(self):\n",
    "        return self.edges\n",
    "    \n",
    "    def interior_angle(self):\n",
    "        return (self.edges - 2) * (180/self.edges)\n",
    "    \n",
    "    def edge_length(self):\n",
    "        return (2 * self.radius) * (math.sin(math.pi/self.edges))\n",
    "    \n",
    "    def area(self):\n",
    "        a = self.radius * math.cos(math.pi / self.edges)\n",
    "        s = self.edge_length()\n",
    "        return (self.edges * s * a) / 2\n",
    "    \n",
    "    def perimeter(self):\n",
    "        s = self.edge_length()\n",
    "        return self.edges * s\n",
    "            \n",
    "    def __repr__(self):\n",
    "        return f'{self.__class__.__name__}(edges={self.edges}, radius={self.radius})'"
   ]
  },
  {
   "cell_type": "code",
   "execution_count": 21,
   "metadata": {},
   "outputs": [],
   "source": [
    "p1 = Polygon(3,11.55)"
   ]
  },
  {
   "cell_type": "code",
   "execution_count": 22,
   "metadata": {},
   "outputs": [
    {
     "data": {
      "text/plain": [
       "60.0"
      ]
     },
     "execution_count": 22,
     "metadata": {},
     "output_type": "execute_result"
    }
   ],
   "source": [
    "p1.interior_angle()"
   ]
  },
  {
   "cell_type": "code",
   "execution_count": 23,
   "metadata": {},
   "outputs": [
    {
     "data": {
      "text/plain": [
       "20.005186827420534"
      ]
     },
     "execution_count": 23,
     "metadata": {},
     "output_type": "execute_result"
    }
   ],
   "source": [
    "p1.edge_length()"
   ]
  },
  {
   "cell_type": "code",
   "execution_count": 24,
   "metadata": {},
   "outputs": [
    {
     "data": {
      "text/plain": [
       "173.29493089253043"
      ]
     },
     "execution_count": 24,
     "metadata": {},
     "output_type": "execute_result"
    }
   ],
   "source": [
    "p1.area()"
   ]
  },
  {
   "cell_type": "code",
   "execution_count": 25,
   "metadata": {},
   "outputs": [
    {
     "data": {
      "text/plain": [
       "60.015560482261606"
      ]
     },
     "execution_count": 25,
     "metadata": {},
     "output_type": "execute_result"
    }
   ],
   "source": [
    "p1.perimeter()"
   ]
  },
  {
   "cell_type": "code",
   "execution_count": 26,
   "metadata": {},
   "outputs": [],
   "source": [
    "# All imports go here\n",
    "import math\n",
    "\n",
    "# This is a simple Polygon class which creates a polygon \n",
    "# based on the number of edges and the circumradius\n",
    "class Polygon:\n",
    "    \n",
    "    # Initialisation starts here\n",
    "    def __init__(self, edges, radius):\n",
    "        \n",
    "        self._edges = None\n",
    "        self._radius = None\n",
    "        \n",
    "        self.edges = edges\n",
    "        self.radius = radius\n",
    "        \n",
    "    # Getters and setters start here\n",
    "    # edges getter and setter\n",
    "    @property\n",
    "    def edges(self):\n",
    "        return self._edges\n",
    "    \n",
    "    @edges.setter\n",
    "    def edges(self, value):\n",
    "        if not isinstance(value, int):\n",
    "            raise TypeError('Number of edges should only be integers')\n",
    "        elif value < 3 :\n",
    "            raise ValueError('There must be atleast 3 edges')\n",
    "        else:\n",
    "            self._edges = value\n",
    "    \n",
    "    # radius getter and setter        \n",
    "    @property\n",
    "    def radius(self):\n",
    "        return self._radius\n",
    "    \n",
    "    @radius.setter\n",
    "    def radius(self, value):\n",
    "        if value <= 0 :\n",
    "            raise ValueError('Circumradius can only be positive')\n",
    "        else:\n",
    "            self._radius = value\n",
    "            \n",
    "    @property\n",
    "    def vertices(self):\n",
    "        return self.edges\n",
    "    \n",
    "    # Calculates the interior angle of the polygon\n",
    "    def interior_angle(self):\n",
    "        return (self.edges - 2) * (180/self.edges)\n",
    "    \n",
    "    # Calculates the edge length\n",
    "    # All sides have the same length\n",
    "    def edge_length(self):\n",
    "        return (2 * self.radius) * (math.sin(math.pi/self.edges))\n",
    "    \n",
    "    # Calculates area of the polygon\n",
    "    def area(self):\n",
    "        a = self.radius * math.cos(math.pi / self.edges)\n",
    "        s = self.edge_length()\n",
    "        return (self.edges * s * a) / 2\n",
    "    \n",
    "    # Calculates perimeter of the polygon\n",
    "    def perimeter(self):\n",
    "        s = self.edge_length()\n",
    "        return self.edges * s\n",
    "            \n",
    "    def __repr__(self):\n",
    "        return f'{self.__class__.__name__}(edges={self.edges}, radius={self.radius})'"
   ]
  },
  {
   "cell_type": "code",
   "execution_count": 27,
   "metadata": {},
   "outputs": [],
   "source": [
    "# All imports go here\n",
    "import math\n",
    "\n",
    "# This is a simple Polygon class which creates a polygon \n",
    "# based on the number of edges and the circumradius\n",
    "class Polygon:\n",
    "    \n",
    "    # Initialisation starts here\n",
    "    def __init__(self, edges, radius):\n",
    "        \n",
    "        self._edges = None\n",
    "        self._radius = None\n",
    "        \n",
    "        self.edges = edges\n",
    "        self.radius = radius\n",
    "        \n",
    "    # Getters and setters start here\n",
    "    # edges getter and setter\n",
    "    @property\n",
    "    def edges(self):\n",
    "        return self._edges\n",
    "    \n",
    "    @edges.setter\n",
    "    def edges(self, value):\n",
    "        if not isinstance(value, int):\n",
    "            raise TypeError('Number of edges of a polygon should only be integers')\n",
    "        elif value < 3 :\n",
    "            raise ValueError('There must be atleast 3 edges in a polygon')\n",
    "        else:\n",
    "            self._edges = value\n",
    "    \n",
    "    # radius getter and setter        \n",
    "    @property\n",
    "    def radius(self):\n",
    "        return self._radius\n",
    "    \n",
    "    @radius.setter\n",
    "    def radius(self, value):\n",
    "        if value <= 0 :\n",
    "            raise ValueError('Circumradius can only be positive')\n",
    "        else:\n",
    "            self._radius = value\n",
    "            \n",
    "    @property\n",
    "    def vertices(self):\n",
    "        return self.edges\n",
    "    \n",
    "    # Calculates the interior angle of the polygon\n",
    "    def interior_angle(self):\n",
    "        return (self.edges - 2) * (180/self.edges)\n",
    "    \n",
    "    # Calculates the edge length\n",
    "    # All sides have the same length\n",
    "    def edge_length(self):\n",
    "        return (2 * self.radius) * (math.sin(math.pi/self.edges))\n",
    "    \n",
    "    # Calculates area of the polygon\n",
    "    def area(self):\n",
    "        a = self.radius * math.cos(math.pi / self.edges)\n",
    "        s = self.edge_length()\n",
    "        return (self.edges * s * a) / 2\n",
    "    \n",
    "    # Calculates perimeter of the polygon\n",
    "    def perimeter(self):\n",
    "        s = self.edge_length()\n",
    "        return self.edges * s\n",
    "    \n",
    "    # Equality implementation\n",
    "    # Can compare only Polygons\n",
    "    # Polygons are said to be equal if they have same number of vertices and same circumradius\n",
    "    def __eq__(self, other):\n",
    "        if isinstance(other, Polygon):\n",
    "            return self.edges == other.edges and self.radius == other.radius\n",
    "        else:\n",
    "            raise TypeError('Incompatble type for comparision. Can only compare with another Polygon')\n",
    "            \n",
    "    def __repr__(self):\n",
    "        return f'{self.__class__.__name__}(edges={self.edges}, radius={self.radius})'"
   ]
  },
  {
   "cell_type": "code",
   "execution_count": 28,
   "metadata": {},
   "outputs": [],
   "source": [
    "p1 = Polygon(3,1)"
   ]
  },
  {
   "cell_type": "code",
   "execution_count": 29,
   "metadata": {},
   "outputs": [],
   "source": [
    "p2 = Polygon(3,1)"
   ]
  },
  {
   "cell_type": "code",
   "execution_count": 30,
   "metadata": {},
   "outputs": [
    {
     "data": {
      "text/plain": [
       "True"
      ]
     },
     "execution_count": 30,
     "metadata": {},
     "output_type": "execute_result"
    }
   ],
   "source": [
    "p1 == p2"
   ]
  },
  {
   "cell_type": "code",
   "execution_count": 31,
   "metadata": {},
   "outputs": [
    {
     "data": {
      "text/plain": [
       "Polygon(edges=3, radius=1)"
      ]
     },
     "execution_count": 31,
     "metadata": {},
     "output_type": "execute_result"
    }
   ],
   "source": [
    "p1"
   ]
  },
  {
   "cell_type": "code",
   "execution_count": 32,
   "metadata": {},
   "outputs": [
    {
     "data": {
      "text/plain": [
       "Polygon(edges=3, radius=1)"
      ]
     },
     "execution_count": 32,
     "metadata": {},
     "output_type": "execute_result"
    }
   ],
   "source": [
    "p2"
   ]
  },
  {
   "cell_type": "code",
   "execution_count": 33,
   "metadata": {},
   "outputs": [],
   "source": [
    "p1.radius = 10"
   ]
  },
  {
   "cell_type": "code",
   "execution_count": 34,
   "metadata": {},
   "outputs": [
    {
     "data": {
      "text/plain": [
       "False"
      ]
     },
     "execution_count": 34,
     "metadata": {},
     "output_type": "execute_result"
    }
   ],
   "source": [
    "p1 == p2"
   ]
  },
  {
   "cell_type": "code",
   "execution_count": 35,
   "metadata": {},
   "outputs": [
    {
     "data": {
      "text/plain": [
       "(Polygon(edges=3, radius=10), Polygon(edges=3, radius=1))"
      ]
     },
     "execution_count": 35,
     "metadata": {},
     "output_type": "execute_result"
    }
   ],
   "source": [
    "p1,p2"
   ]
  },
  {
   "cell_type": "code",
   "execution_count": 36,
   "metadata": {},
   "outputs": [
    {
     "ename": "TypeError",
     "evalue": "Incompatble type for comparision. Can only compare with another Polygon",
     "output_type": "error",
     "traceback": [
      "\u001b[1;31m---------------------------------------------------------------------------\u001b[0m",
      "\u001b[1;31mTypeError\u001b[0m                                 Traceback (most recent call last)",
      "\u001b[1;32m<ipython-input-36-754b5931ab26>\u001b[0m in \u001b[0;36m<module>\u001b[1;34m\u001b[0m\n\u001b[1;32m----> 1\u001b[1;33m \u001b[0mp1\u001b[0m \u001b[1;33m==\u001b[0m \u001b[1;36m10\u001b[0m\u001b[1;33m,\u001b[0m\u001b[1;36m3\u001b[0m\u001b[1;33m\u001b[0m\u001b[1;33m\u001b[0m\u001b[0m\n\u001b[0m",
      "\u001b[1;32m<ipython-input-27-10d523ee3f35>\u001b[0m in \u001b[0;36m__eq__\u001b[1;34m(self, other)\u001b[0m\n\u001b[0;32m     73\u001b[0m             \u001b[1;32mreturn\u001b[0m \u001b[0mself\u001b[0m\u001b[1;33m.\u001b[0m\u001b[0medges\u001b[0m \u001b[1;33m==\u001b[0m \u001b[0mother\u001b[0m\u001b[1;33m.\u001b[0m\u001b[0medges\u001b[0m \u001b[1;32mand\u001b[0m \u001b[0mself\u001b[0m\u001b[1;33m.\u001b[0m\u001b[0mradius\u001b[0m \u001b[1;33m==\u001b[0m \u001b[0mother\u001b[0m\u001b[1;33m.\u001b[0m\u001b[0mradius\u001b[0m\u001b[1;33m\u001b[0m\u001b[1;33m\u001b[0m\u001b[0m\n\u001b[0;32m     74\u001b[0m         \u001b[1;32melse\u001b[0m\u001b[1;33m:\u001b[0m\u001b[1;33m\u001b[0m\u001b[1;33m\u001b[0m\u001b[0m\n\u001b[1;32m---> 75\u001b[1;33m             \u001b[1;32mraise\u001b[0m \u001b[0mTypeError\u001b[0m\u001b[1;33m(\u001b[0m\u001b[1;34m'Incompatble type for comparision. Can only compare with another Polygon'\u001b[0m\u001b[1;33m)\u001b[0m\u001b[1;33m\u001b[0m\u001b[1;33m\u001b[0m\u001b[0m\n\u001b[0m\u001b[0;32m     76\u001b[0m \u001b[1;33m\u001b[0m\u001b[0m\n\u001b[0;32m     77\u001b[0m     \u001b[1;32mdef\u001b[0m \u001b[0m__repr__\u001b[0m\u001b[1;33m(\u001b[0m\u001b[0mself\u001b[0m\u001b[1;33m)\u001b[0m\u001b[1;33m:\u001b[0m\u001b[1;33m\u001b[0m\u001b[1;33m\u001b[0m\u001b[0m\n",
      "\u001b[1;31mTypeError\u001b[0m: Incompatble type for comparision. Can only compare with another Polygon"
     ]
    }
   ],
   "source": [
    "p1 == 10,3"
   ]
  },
  {
   "cell_type": "code",
   "execution_count": 37,
   "metadata": {},
   "outputs": [
    {
     "ename": "TypeError",
     "evalue": "Incompatble type for comparision. Can only compare with another Polygon",
     "output_type": "error",
     "traceback": [
      "\u001b[1;31m---------------------------------------------------------------------------\u001b[0m",
      "\u001b[1;31mTypeError\u001b[0m                                 Traceback (most recent call last)",
      "\u001b[1;32m<ipython-input-37-1a5ac8a3d3d7>\u001b[0m in \u001b[0;36m<module>\u001b[1;34m\u001b[0m\n\u001b[1;32m----> 1\u001b[1;33m \u001b[0mp1\u001b[0m \u001b[1;33m==\u001b[0m \u001b[1;36m5\u001b[0m\u001b[1;33m\u001b[0m\u001b[1;33m\u001b[0m\u001b[0m\n\u001b[0m",
      "\u001b[1;32m<ipython-input-27-10d523ee3f35>\u001b[0m in \u001b[0;36m__eq__\u001b[1;34m(self, other)\u001b[0m\n\u001b[0;32m     73\u001b[0m             \u001b[1;32mreturn\u001b[0m \u001b[0mself\u001b[0m\u001b[1;33m.\u001b[0m\u001b[0medges\u001b[0m \u001b[1;33m==\u001b[0m \u001b[0mother\u001b[0m\u001b[1;33m.\u001b[0m\u001b[0medges\u001b[0m \u001b[1;32mand\u001b[0m \u001b[0mself\u001b[0m\u001b[1;33m.\u001b[0m\u001b[0mradius\u001b[0m \u001b[1;33m==\u001b[0m \u001b[0mother\u001b[0m\u001b[1;33m.\u001b[0m\u001b[0mradius\u001b[0m\u001b[1;33m\u001b[0m\u001b[1;33m\u001b[0m\u001b[0m\n\u001b[0;32m     74\u001b[0m         \u001b[1;32melse\u001b[0m\u001b[1;33m:\u001b[0m\u001b[1;33m\u001b[0m\u001b[1;33m\u001b[0m\u001b[0m\n\u001b[1;32m---> 75\u001b[1;33m             \u001b[1;32mraise\u001b[0m \u001b[0mTypeError\u001b[0m\u001b[1;33m(\u001b[0m\u001b[1;34m'Incompatble type for comparision. Can only compare with another Polygon'\u001b[0m\u001b[1;33m)\u001b[0m\u001b[1;33m\u001b[0m\u001b[1;33m\u001b[0m\u001b[0m\n\u001b[0m\u001b[0;32m     76\u001b[0m \u001b[1;33m\u001b[0m\u001b[0m\n\u001b[0;32m     77\u001b[0m     \u001b[1;32mdef\u001b[0m \u001b[0m__repr__\u001b[0m\u001b[1;33m(\u001b[0m\u001b[0mself\u001b[0m\u001b[1;33m)\u001b[0m\u001b[1;33m:\u001b[0m\u001b[1;33m\u001b[0m\u001b[1;33m\u001b[0m\u001b[0m\n",
      "\u001b[1;31mTypeError\u001b[0m: Incompatble type for comparision. Can only compare with another Polygon"
     ]
    }
   ],
   "source": [
    "p1 == 5"
   ]
  },
  {
   "cell_type": "code",
   "execution_count": 38,
   "metadata": {},
   "outputs": [
    {
     "data": {
      "text/plain": [
       "True"
      ]
     },
     "execution_count": 38,
     "metadata": {},
     "output_type": "execute_result"
    }
   ],
   "source": [
    "p1 == Polygon(3,10)"
   ]
  },
  {
   "cell_type": "code",
   "execution_count": 39,
   "metadata": {},
   "outputs": [
    {
     "data": {
      "text/plain": [
       "False"
      ]
     },
     "execution_count": 39,
     "metadata": {},
     "output_type": "execute_result"
    }
   ],
   "source": [
    "p1 == Polygon(3,100)"
   ]
  },
  {
   "cell_type": "code",
   "execution_count": 40,
   "metadata": {},
   "outputs": [],
   "source": [
    "# All imports go here\n",
    "import math\n",
    "\n",
    "# This is a simple Polygon class which creates a polygon \n",
    "# based on the number of edges and the circumradius\n",
    "class Polygon:\n",
    "    \n",
    "    # Initialisation starts here\n",
    "    def __init__(self, edges, radius):\n",
    "        \n",
    "        self._edges = None\n",
    "        self._radius = None\n",
    "        \n",
    "        self.edges = edges\n",
    "        self.radius = radius\n",
    "        \n",
    "    # Getters and setters start here\n",
    "    # edges getter and setter\n",
    "    @property\n",
    "    def edges(self):\n",
    "        return self._edges\n",
    "    \n",
    "    @edges.setter\n",
    "    def edges(self, value):\n",
    "        if not isinstance(value, int):\n",
    "            raise TypeError('Number of edges of a polygon should only be integers')\n",
    "        elif value < 3 :\n",
    "            raise ValueError('There must be atleast 3 edges in a polygon')\n",
    "        else:\n",
    "            self._edges = value\n",
    "    \n",
    "    # radius getter and setter        \n",
    "    @property\n",
    "    def radius(self):\n",
    "        return self._radius\n",
    "    \n",
    "    @radius.setter\n",
    "    def radius(self, value):\n",
    "        if value <= 0 :\n",
    "            raise ValueError('Circumradius of a polygon can only be positive')\n",
    "        else:\n",
    "            self._radius = value\n",
    "            \n",
    "    @property\n",
    "    def vertices(self):\n",
    "        return self.edges\n",
    "    \n",
    "    # Calculates the interior angle of the polygon\n",
    "    def interior_angle(self):\n",
    "        return (self.edges - 2) * (180/self.edges)\n",
    "    \n",
    "    # Calculates the edge length\n",
    "    # All sides have the same length\n",
    "    def edge_length(self):\n",
    "        return (2 * self.radius) * (math.sin(math.pi/self.edges))\n",
    "    \n",
    "    # Calculates area of the polygon\n",
    "    def area(self):\n",
    "        a = self.radius * math.cos(math.pi / self.edges)\n",
    "        s = self.edge_length()\n",
    "        return (self.edges * s * a) / 2\n",
    "    \n",
    "    # Calculates perimeter of the polygon\n",
    "    def perimeter(self):\n",
    "        s = self.edge_length()\n",
    "        return self.edges * s\n",
    "    \n",
    "    # Equality implementation\n",
    "    # Can compare only Polygons\n",
    "    # Polygons are said to be equal if they have same number of vertices and same circumradius\n",
    "    def __eq__(self, other):\n",
    "        if isinstance(other, Polygon):\n",
    "            return self.edges == other.edges and self.radius == other.radius\n",
    "        else:\n",
    "            raise TypeError('Incompatble type for comparision. Can only compare with another Polygon')\n",
    "            \n",
    "    # '>' operator implementation\n",
    "    # Polygons are compared based on the number of vertices\n",
    "    def __gt__(self, other):\n",
    "        if isinstance(other, Polygon):\n",
    "            return self.edges > other.edges\n",
    "        else:\n",
    "            raise TypeError('Incompatble type for comparision. Can only compare with another Polygon')\n",
    "            \n",
    "    # Representation of Polygon object\n",
    "    def __repr__(self):\n",
    "        return f'{self.__class__.__name__}(edges={self.edges}, radius={self.radius})'"
   ]
  },
  {
   "cell_type": "code",
   "execution_count": 41,
   "metadata": {},
   "outputs": [],
   "source": [
    "p1 = Polygon(3,10)"
   ]
  },
  {
   "cell_type": "code",
   "execution_count": 42,
   "metadata": {},
   "outputs": [],
   "source": [
    "p2 = Polygon(4,1)"
   ]
  },
  {
   "cell_type": "code",
   "execution_count": 43,
   "metadata": {},
   "outputs": [
    {
     "data": {
      "text/plain": [
       "False"
      ]
     },
     "execution_count": 43,
     "metadata": {},
     "output_type": "execute_result"
    }
   ],
   "source": [
    "p1 > p2"
   ]
  },
  {
   "cell_type": "code",
   "execution_count": 44,
   "metadata": {},
   "outputs": [
    {
     "data": {
      "text/plain": [
       "True"
      ]
     },
     "execution_count": 44,
     "metadata": {},
     "output_type": "execute_result"
    }
   ],
   "source": [
    "p2 > p1"
   ]
  },
  {
   "cell_type": "code",
   "execution_count": 45,
   "metadata": {},
   "outputs": [
    {
     "data": {
      "text/plain": [
       "True"
      ]
     },
     "execution_count": 45,
     "metadata": {},
     "output_type": "execute_result"
    }
   ],
   "source": [
    "p1 < p2"
   ]
  },
  {
   "cell_type": "code",
   "execution_count": 47,
   "metadata": {},
   "outputs": [
    {
     "ename": "TypeError",
     "evalue": "'<=' not supported between instances of 'Polygon' and 'Polygon'",
     "output_type": "error",
     "traceback": [
      "\u001b[1;31m---------------------------------------------------------------------------\u001b[0m",
      "\u001b[1;31mTypeError\u001b[0m                                 Traceback (most recent call last)",
      "\u001b[1;32m<ipython-input-47-f5a47ee2adaf>\u001b[0m in \u001b[0;36m<module>\u001b[1;34m\u001b[0m\n\u001b[1;32m----> 1\u001b[1;33m \u001b[0mp1\u001b[0m \u001b[1;33m<=\u001b[0m \u001b[0mp2\u001b[0m\u001b[1;33m\u001b[0m\u001b[1;33m\u001b[0m\u001b[0m\n\u001b[0m",
      "\u001b[1;31mTypeError\u001b[0m: '<=' not supported between instances of 'Polygon' and 'Polygon'"
     ]
    }
   ],
   "source": [
    "p1 <= p2"
   ]
  },
  {
   "cell_type": "code",
   "execution_count": 49,
   "metadata": {},
   "outputs": [],
   "source": [
    "p3 = Polygon(3,10)"
   ]
  },
  {
   "cell_type": "code",
   "execution_count": 50,
   "metadata": {},
   "outputs": [
    {
     "data": {
      "text/plain": [
       "False"
      ]
     },
     "execution_count": 50,
     "metadata": {},
     "output_type": "execute_result"
    }
   ],
   "source": [
    "p1 is p3"
   ]
  },
  {
   "cell_type": "code",
   "execution_count": 51,
   "metadata": {},
   "outputs": [
    {
     "data": {
      "text/plain": [
       "True"
      ]
     },
     "execution_count": 51,
     "metadata": {},
     "output_type": "execute_result"
    }
   ],
   "source": [
    "p1 == p3"
   ]
  },
  {
   "cell_type": "code",
   "execution_count": 52,
   "metadata": {},
   "outputs": [],
   "source": [
    "p4 = p1"
   ]
  },
  {
   "cell_type": "code",
   "execution_count": 53,
   "metadata": {},
   "outputs": [
    {
     "data": {
      "text/plain": [
       "True"
      ]
     },
     "execution_count": 53,
     "metadata": {},
     "output_type": "execute_result"
    }
   ],
   "source": [
    "p4 is p1"
   ]
  },
  {
   "cell_type": "code",
   "execution_count": 54,
   "metadata": {},
   "outputs": [],
   "source": [
    "p4.edge = 10"
   ]
  },
  {
   "cell_type": "code",
   "execution_count": 55,
   "metadata": {},
   "outputs": [
    {
     "data": {
      "text/plain": [
       "10"
      ]
     },
     "execution_count": 55,
     "metadata": {},
     "output_type": "execute_result"
    }
   ],
   "source": [
    "p1.edge"
   ]
  },
  {
   "cell_type": "code",
   "execution_count": 56,
   "metadata": {},
   "outputs": [
    {
     "data": {
      "text/plain": [
       "(10, 10)"
      ]
     },
     "execution_count": 56,
     "metadata": {},
     "output_type": "execute_result"
    }
   ],
   "source": [
    "p1.radius , p4.radius\n"
   ]
  },
  {
   "cell_type": "code",
   "execution_count": 57,
   "metadata": {},
   "outputs": [],
   "source": [
    "p1.radius = 1000"
   ]
  },
  {
   "cell_type": "code",
   "execution_count": 58,
   "metadata": {},
   "outputs": [
    {
     "data": {
      "text/plain": [
       "1000"
      ]
     },
     "execution_count": 58,
     "metadata": {},
     "output_type": "execute_result"
    }
   ],
   "source": [
    "p4.radius"
   ]
  },
  {
   "cell_type": "markdown",
   "metadata": {},
   "source": [
    "# Fully completed Polygon class "
   ]
  },
  {
   "cell_type": "code",
   "execution_count": 3,
   "metadata": {},
   "outputs": [],
   "source": [
    "# All imports go here\n",
    "import math\n",
    "import numbers\n",
    "\n",
    "# This is a simple Polygon class which creates a polygon \n",
    "# based on the number of edges and the circumradius\n",
    "class Polygon:\n",
    "    \n",
    "    # Initialisation starts here\n",
    "    def __init__(self, edges, radius):\n",
    "        self._edges = None\n",
    "        self._radius = None\n",
    "        \n",
    "        self.edges = edges\n",
    "        self.radius = radius\n",
    "        \n",
    "    # Getters and setters start here\n",
    "    # edges getter and setter\n",
    "    @property\n",
    "    def edges(self):\n",
    "        return self._edges\n",
    "    \n",
    "    @edges.setter\n",
    "    def edges(self, value):\n",
    "        if not isinstance(value, int):\n",
    "            raise TypeError('Number of edges of a polygon should only be integers')\n",
    "        elif value < 3 :\n",
    "            raise ValueError('There must be atleast 3 edges in a polygon')\n",
    "        else:\n",
    "            self._edges = value\n",
    "    \n",
    "    # radius getter and setter        \n",
    "    @property\n",
    "    def radius(self):\n",
    "        return self._radius\n",
    "    \n",
    "    @radius.setter\n",
    "    def radius(self, value):\n",
    "        if not isinstance(value, numbers.Real):\n",
    "            raise TypeError('Circumradius of a polygon can only be a real number')\n",
    "        if value <= 0 :\n",
    "            raise ValueError('Circumradius of a polygon can only be positive')\n",
    "        else:\n",
    "            self._radius = value\n",
    "    \n",
    "    # This is a property and hence not callable\n",
    "    # Returns the number of vertices. Same as self.edges\n",
    "    # Value cannot be assigned to vertices since we didn't implement setter\n",
    "    @property\n",
    "    def vertices(self):\n",
    "        return self.edges\n",
    "    \n",
    "    # Calculates the interior angle of the polygon\n",
    "    def interior_angle(self):\n",
    "        return (self.edges - 2) * (180/self.edges)\n",
    "    \n",
    "    # Calculates the edge length\n",
    "    # All sides have the same length\n",
    "    def edge_length(self):\n",
    "        return (2 * self.radius) * (math.sin(math.pi/self.edges))\n",
    "    \n",
    "    # Calculates area of the polygon\n",
    "    def area(self):\n",
    "        a = self.radius * math.cos(math.pi / self.edges)\n",
    "        s = self.edge_length()\n",
    "        return (self.edges * s * a) / 2\n",
    "    \n",
    "    # Calculates perimeter of the polygon\n",
    "    def perimeter(self):\n",
    "        s = self.edge_length()\n",
    "        return self.edges * s\n",
    "    \n",
    "    # Equality implementation\n",
    "    # Can compare only Polygons\n",
    "    # Polygons are said to be equal if they have same number of vertices and same circumradius\n",
    "    def __eq__(self, other):\n",
    "        if isinstance(other, Polygon):\n",
    "            return self.edges == other.edges and self.radius == other.radius\n",
    "        else:\n",
    "            raise TypeError('Incompatble type for comparision. Can only compare with another Polygon')\n",
    "            \n",
    "    # '>' operator implementation\n",
    "    # Polygons are compared based on the number of vertices\n",
    "    def __gt__(self, other):\n",
    "        if isinstance(other, Polygon):\n",
    "            return self.edges > other.edges\n",
    "        else:\n",
    "            raise TypeError('Incompatble type for comparision. Can only compare with another Polygon')\n",
    "            \n",
    "    # Representation of Polygon object\n",
    "    def __repr__(self):\n",
    "        return f'{self.__class__.__name__}(edges={self.edges}, radius={self.radius})'"
   ]
  },
  {
   "cell_type": "code",
   "execution_count": 19,
   "metadata": {},
   "outputs": [],
   "source": [
    "class Polygons:\n",
    "    \n",
    "    def __init__(self, number, common_radius):\n",
    "        if not isinstance(number, int):\n",
    "            raise TypeError('Unsupported type for the number of edges for the largest polygon')\n",
    "        elif number < 3:\n",
    "            raise ValueError('Largest Polygon should have atleast 3 edges')\n",
    "        self._radius = common_radius\n",
    "        self._polygons = [Polygon(edge, self._radius) for edge in range(3,number+1)]\n",
    "        \n",
    "    def __repr__(self):\n",
    "        all_polygons = ', '.join(str(polygon) for polygon in self._polygons)\n",
    "        return f'{self.__class__.__name__}({all_polygons})'"
   ]
  },
  {
   "cell_type": "code",
   "execution_count": 20,
   "metadata": {},
   "outputs": [],
   "source": [
    "p = Polygons(7,10)"
   ]
  },
  {
   "cell_type": "code",
   "execution_count": 21,
   "metadata": {},
   "outputs": [
    {
     "data": {
      "text/plain": [
       "Polygons(Polygon(edges=3, radius=10), Polygon(edges=4, radius=10), Polygon(edges=5, radius=10), Polygon(edges=6, radius=10), Polygon(edges=7, radius=10))"
      ]
     },
     "execution_count": 21,
     "metadata": {},
     "output_type": "execute_result"
    }
   ],
   "source": [
    "p"
   ]
  },
  {
   "cell_type": "code",
   "execution_count": 22,
   "metadata": {},
   "outputs": [],
   "source": [
    "p2 = Polygons(3,10)"
   ]
  },
  {
   "cell_type": "code",
   "execution_count": 23,
   "metadata": {},
   "outputs": [
    {
     "data": {
      "text/plain": [
       "Polygons(Polygon(edges=3, radius=10))"
      ]
     },
     "execution_count": 23,
     "metadata": {},
     "output_type": "execute_result"
    }
   ],
   "source": [
    "p2"
   ]
  },
  {
   "cell_type": "code",
   "execution_count": 26,
   "metadata": {},
   "outputs": [
    {
     "ename": "ValueError",
     "evalue": "Largest Polygon should have atleast 3 edges",
     "output_type": "error",
     "traceback": [
      "\u001b[1;31m---------------------------------------------------------------------------\u001b[0m",
      "\u001b[1;31mValueError\u001b[0m                                Traceback (most recent call last)",
      "\u001b[1;32m<ipython-input-26-4e8e602c04c4>\u001b[0m in \u001b[0;36m<module>\u001b[1;34m\u001b[0m\n\u001b[1;32m----> 1\u001b[1;33m \u001b[0mp4\u001b[0m \u001b[1;33m=\u001b[0m \u001b[0mPolygons\u001b[0m\u001b[1;33m(\u001b[0m\u001b[1;36m1\u001b[0m\u001b[1;33m,\u001b[0m\u001b[1;36m10\u001b[0m\u001b[1;33m)\u001b[0m\u001b[1;33m\u001b[0m\u001b[1;33m\u001b[0m\u001b[0m\n\u001b[0m",
      "\u001b[1;32m<ipython-input-19-be25ba55e511>\u001b[0m in \u001b[0;36m__init__\u001b[1;34m(self, number, common_radius)\u001b[0m\n\u001b[0;32m      5\u001b[0m             \u001b[1;32mraise\u001b[0m \u001b[0mTypeError\u001b[0m\u001b[1;33m(\u001b[0m\u001b[1;34m'Unsupported type for the number of edges for the largest polygon'\u001b[0m\u001b[1;33m)\u001b[0m\u001b[1;33m\u001b[0m\u001b[1;33m\u001b[0m\u001b[0m\n\u001b[0;32m      6\u001b[0m         \u001b[1;32melif\u001b[0m \u001b[0mnumber\u001b[0m \u001b[1;33m<\u001b[0m \u001b[1;36m3\u001b[0m\u001b[1;33m:\u001b[0m\u001b[1;33m\u001b[0m\u001b[1;33m\u001b[0m\u001b[0m\n\u001b[1;32m----> 7\u001b[1;33m             \u001b[1;32mraise\u001b[0m \u001b[0mValueError\u001b[0m\u001b[1;33m(\u001b[0m\u001b[1;34m'Largest Polygon should have atleast 3 edges'\u001b[0m\u001b[1;33m)\u001b[0m\u001b[1;33m\u001b[0m\u001b[1;33m\u001b[0m\u001b[0m\n\u001b[0m\u001b[0;32m      8\u001b[0m         \u001b[0mself\u001b[0m\u001b[1;33m.\u001b[0m\u001b[0m_radius\u001b[0m \u001b[1;33m=\u001b[0m \u001b[0mcommon_radius\u001b[0m\u001b[1;33m\u001b[0m\u001b[1;33m\u001b[0m\u001b[0m\n\u001b[0;32m      9\u001b[0m         \u001b[0mself\u001b[0m\u001b[1;33m.\u001b[0m\u001b[0m_polygons\u001b[0m \u001b[1;33m=\u001b[0m \u001b[1;33m[\u001b[0m\u001b[0mPolygon\u001b[0m\u001b[1;33m(\u001b[0m\u001b[0medge\u001b[0m\u001b[1;33m,\u001b[0m \u001b[0mself\u001b[0m\u001b[1;33m.\u001b[0m\u001b[0m_radius\u001b[0m\u001b[1;33m)\u001b[0m \u001b[1;32mfor\u001b[0m \u001b[0medge\u001b[0m \u001b[1;32min\u001b[0m \u001b[0mrange\u001b[0m\u001b[1;33m(\u001b[0m\u001b[1;36m3\u001b[0m\u001b[1;33m,\u001b[0m\u001b[0mnumber\u001b[0m\u001b[1;33m+\u001b[0m\u001b[1;36m1\u001b[0m\u001b[1;33m)\u001b[0m\u001b[1;33m]\u001b[0m\u001b[1;33m\u001b[0m\u001b[1;33m\u001b[0m\u001b[0m\n",
      "\u001b[1;31mValueError\u001b[0m: Largest Polygon should have atleast 3 edges"
     ]
    }
   ],
   "source": [
    "p4 = Polygons(1,10)"
   ]
  },
  {
   "cell_type": "code",
   "execution_count": 27,
   "metadata": {},
   "outputs": [
    {
     "ename": "NameError",
     "evalue": "name 'p4' is not defined",
     "output_type": "error",
     "traceback": [
      "\u001b[1;31m---------------------------------------------------------------------------\u001b[0m",
      "\u001b[1;31mNameError\u001b[0m                                 Traceback (most recent call last)",
      "\u001b[1;32m<ipython-input-27-134f31d1a912>\u001b[0m in \u001b[0;36m<module>\u001b[1;34m\u001b[0m\n\u001b[1;32m----> 1\u001b[1;33m \u001b[0mp4\u001b[0m\u001b[1;33m\u001b[0m\u001b[1;33m\u001b[0m\u001b[0m\n\u001b[0m",
      "\u001b[1;31mNameError\u001b[0m: name 'p4' is not defined"
     ]
    }
   ],
   "source": [
    "p4"
   ]
  },
  {
   "cell_type": "code",
   "execution_count": 29,
   "metadata": {},
   "outputs": [
    {
     "ename": "TypeError",
     "evalue": "Unsupported type for the number of edges for the largest polygon",
     "output_type": "error",
     "traceback": [
      "\u001b[1;31m---------------------------------------------------------------------------\u001b[0m",
      "\u001b[1;31mTypeError\u001b[0m                                 Traceback (most recent call last)",
      "\u001b[1;32m<ipython-input-29-c3fd46d63597>\u001b[0m in \u001b[0;36m<module>\u001b[1;34m\u001b[0m\n\u001b[1;32m----> 1\u001b[1;33m \u001b[0mp5\u001b[0m \u001b[1;33m=\u001b[0m \u001b[0mPolygons\u001b[0m\u001b[1;33m(\u001b[0m\u001b[1;36m3.2\u001b[0m\u001b[1;33m,\u001b[0m\u001b[1;36m0\u001b[0m\u001b[1;33m)\u001b[0m\u001b[1;33m\u001b[0m\u001b[1;33m\u001b[0m\u001b[0m\n\u001b[0m",
      "\u001b[1;32m<ipython-input-19-be25ba55e511>\u001b[0m in \u001b[0;36m__init__\u001b[1;34m(self, number, common_radius)\u001b[0m\n\u001b[0;32m      3\u001b[0m     \u001b[1;32mdef\u001b[0m \u001b[0m__init__\u001b[0m\u001b[1;33m(\u001b[0m\u001b[0mself\u001b[0m\u001b[1;33m,\u001b[0m \u001b[0mnumber\u001b[0m\u001b[1;33m,\u001b[0m \u001b[0mcommon_radius\u001b[0m\u001b[1;33m)\u001b[0m\u001b[1;33m:\u001b[0m\u001b[1;33m\u001b[0m\u001b[1;33m\u001b[0m\u001b[0m\n\u001b[0;32m      4\u001b[0m         \u001b[1;32mif\u001b[0m \u001b[1;32mnot\u001b[0m \u001b[0misinstance\u001b[0m\u001b[1;33m(\u001b[0m\u001b[0mnumber\u001b[0m\u001b[1;33m,\u001b[0m \u001b[0mint\u001b[0m\u001b[1;33m)\u001b[0m\u001b[1;33m:\u001b[0m\u001b[1;33m\u001b[0m\u001b[1;33m\u001b[0m\u001b[0m\n\u001b[1;32m----> 5\u001b[1;33m             \u001b[1;32mraise\u001b[0m \u001b[0mTypeError\u001b[0m\u001b[1;33m(\u001b[0m\u001b[1;34m'Unsupported type for the number of edges for the largest polygon'\u001b[0m\u001b[1;33m)\u001b[0m\u001b[1;33m\u001b[0m\u001b[1;33m\u001b[0m\u001b[0m\n\u001b[0m\u001b[0;32m      6\u001b[0m         \u001b[1;32melif\u001b[0m \u001b[0mnumber\u001b[0m \u001b[1;33m<\u001b[0m \u001b[1;36m3\u001b[0m\u001b[1;33m:\u001b[0m\u001b[1;33m\u001b[0m\u001b[1;33m\u001b[0m\u001b[0m\n\u001b[0;32m      7\u001b[0m             \u001b[1;32mraise\u001b[0m \u001b[0mValueError\u001b[0m\u001b[1;33m(\u001b[0m\u001b[1;34m'Largest Polygon should have atleast 3 edges'\u001b[0m\u001b[1;33m)\u001b[0m\u001b[1;33m\u001b[0m\u001b[1;33m\u001b[0m\u001b[0m\n",
      "\u001b[1;31mTypeError\u001b[0m: Unsupported type for the number of edges for the largest polygon"
     ]
    }
   ],
   "source": [
    "p5 = Polygons(3.2,0)"
   ]
  },
  {
   "cell_type": "code",
   "execution_count": 42,
   "metadata": {},
   "outputs": [],
   "source": [
    "from functools import reduce\n",
    "\n",
    "class Polygons:\n",
    "    \n",
    "    def __init__(self, number, common_radius):\n",
    "        if not isinstance(number, int):\n",
    "            raise TypeError('Unsupported type for the number of edges for the largest polygon')\n",
    "        elif number < 3:\n",
    "            raise ValueError('Largest Polygon should have atleast 3 edges')\n",
    "        self._radius = common_radius\n",
    "        self._polygons = [Polygon(edge, self._radius) for edge in range(3,number+1)]\n",
    "        \n",
    "    def efficient_polygon(self):\n",
    "        return reduce(Polygons._efficient, self._polygons)\n",
    "        \n",
    "    @staticmethod    \n",
    "    def _efficient(polygon1, polygon2):\n",
    "        polygon1_efficiency = polygon1.area() / polygon1.perimeter()\n",
    "        polygon2_efficiency = polygon2.area() / polygon2.perimeter()\n",
    "        return polygon1 if polygon1_efficiency > polygon2_efficiency else polygon2\n",
    "            \n",
    "    def __repr__(self):\n",
    "        all_polygons = ', '.join(str(polygon) for polygon in self._polygons)\n",
    "        return f'{self.__class__.__name__}({all_polygons})'"
   ]
  },
  {
   "cell_type": "code",
   "execution_count": 49,
   "metadata": {},
   "outputs": [],
   "source": [
    "p = Polygons(10000,1)"
   ]
  },
  {
   "cell_type": "code",
   "execution_count": 50,
   "metadata": {},
   "outputs": [
    {
     "data": {
      "text/plain": [
       "Polygon(edges=10000, radius=1)"
      ]
     },
     "execution_count": 50,
     "metadata": {},
     "output_type": "execute_result"
    }
   ],
   "source": [
    "p.efficient_polygon()"
   ]
  },
  {
   "cell_type": "code",
   "execution_count": 51,
   "metadata": {},
   "outputs": [],
   "source": [
    "from functools import reduce\n",
    "\n",
    "class Polygons:\n",
    "    \n",
    "    def __init__(self, number, common_radius):\n",
    "        if not isinstance(number, int):\n",
    "            raise TypeError('Unsupported type for the number of edges for the largest polygon')\n",
    "        elif number < 3:\n",
    "            raise ValueError('Largest Polygon should have atleast 3 edges')\n",
    "        self._radius = common_radius\n",
    "        self._polygons = [Polygon(edge, self._radius) for edge in range(3,number+1)]\n",
    "        \n",
    "    def efficient_polygon(self):\n",
    "        return reduce(Polygons._efficient, self._polygons)\n",
    "        \n",
    "    @staticmethod    \n",
    "    def _efficient(polygon1, polygon2):\n",
    "        polygon1_efficiency = polygon1.area() / polygon1.perimeter()\n",
    "        polygon2_efficiency = polygon2.area() / polygon2.perimeter()\n",
    "        return polygon1 if polygon1_efficiency > polygon2_efficiency else polygon2\n",
    "    \n",
    "    def __len__(self):\n",
    "        return len(self._polygons)\n",
    "    \n",
    "    def __getitem__(self, index):\n",
    "        return self._polygons[index]\n",
    "            \n",
    "    def __repr__(self):\n",
    "        all_polygons = ', '.join(str(polygon) for polygon in self._polygons)\n",
    "        return f'{self.__class__.__name__}({all_polygons})'"
   ]
  },
  {
   "cell_type": "code",
   "execution_count": 52,
   "metadata": {},
   "outputs": [],
   "source": [
    "p = Polygons(7, 10)"
   ]
  },
  {
   "cell_type": "code",
   "execution_count": 53,
   "metadata": {},
   "outputs": [
    {
     "data": {
      "text/plain": [
       "5"
      ]
     },
     "execution_count": 53,
     "metadata": {},
     "output_type": "execute_result"
    }
   ],
   "source": [
    "len(p)"
   ]
  },
  {
   "cell_type": "code",
   "execution_count": 55,
   "metadata": {},
   "outputs": [
    {
     "data": {
      "text/plain": [
       "Polygon(edges=7, radius=10)"
      ]
     },
     "execution_count": 55,
     "metadata": {},
     "output_type": "execute_result"
    }
   ],
   "source": [
    "p[4]"
   ]
  },
  {
   "cell_type": "code",
   "execution_count": 59,
   "metadata": {},
   "outputs": [
    {
     "data": {
      "text/plain": [
       "[Polygon(edges=7, radius=10),\n",
       " Polygon(edges=6, radius=10),\n",
       " Polygon(edges=5, radius=10),\n",
       " Polygon(edges=4, radius=10),\n",
       " Polygon(edges=3, radius=10)]"
      ]
     },
     "execution_count": 59,
     "metadata": {},
     "output_type": "execute_result"
    }
   ],
   "source": [
    "p [::-1]"
   ]
  },
  {
   "cell_type": "code",
   "execution_count": 56,
   "metadata": {
    "scrolled": true
   },
   "outputs": [
    {
     "data": {
      "text/plain": [
       "[Polygon(edges=5, radius=10),\n",
       " Polygon(edges=6, radius=10),\n",
       " Polygon(edges=7, radius=10)]"
      ]
     },
     "execution_count": 56,
     "metadata": {},
     "output_type": "execute_result"
    }
   ],
   "source": [
    "p[2:5]"
   ]
  },
  {
   "cell_type": "code",
   "execution_count": 57,
   "metadata": {},
   "outputs": [
    {
     "data": {
      "text/plain": [
       "Polygon(edges=7, radius=10)"
      ]
     },
     "execution_count": 57,
     "metadata": {},
     "output_type": "execute_result"
    }
   ],
   "source": [
    "p.efficient_polygon()"
   ]
  },
  {
   "cell_type": "markdown",
   "metadata": {},
   "source": [
    "# Fully Completed Polygon Class"
   ]
  },
  {
   "cell_type": "code",
   "execution_count": 37,
   "metadata": {},
   "outputs": [],
   "source": [
    "# All imports go here\n",
    "import math\n",
    "import numbers\n",
    "\n",
    "# This is a simple Polygon class which creates a polygon \n",
    "# based on the number of edges and the circumradius\n",
    "class Polygon:\n",
    "    \n",
    "    # Initialisation starts here\n",
    "    def __init__(self, edges, radius):\n",
    "        self._edges = None\n",
    "        self._radius = None\n",
    "        \n",
    "        self.edges = edges\n",
    "        self.radius = radius\n",
    "        \n",
    "        self.edge_length_cache = dict()\n",
    "        self.interior_angle_cache = dict()\n",
    "        \n",
    "    # Getters and setters start here\n",
    "    # edges getter and setter\n",
    "    @property\n",
    "    def edges(self):\n",
    "        return self._edges\n",
    "    \n",
    "    @edges.setter\n",
    "    def edges(self, value):\n",
    "        if not isinstance(value, int):\n",
    "            raise TypeError('Number of edges of a polygon should only be integers')\n",
    "        elif value < 3 :\n",
    "            raise ValueError('There must be atleast 3 edges in a polygon')\n",
    "        else:\n",
    "            self._edges = value\n",
    "    \n",
    "    # radius getter and setter        \n",
    "    @property\n",
    "    def radius(self):\n",
    "        return self._radius\n",
    "    \n",
    "    @radius.setter\n",
    "    def radius(self, value):\n",
    "        if not isinstance(value, numbers.Real):\n",
    "            raise TypeError('Circumradius of a polygon can only be a real number')\n",
    "        if value <= 0 :\n",
    "            raise ValueError('Circumradius of a polygon can only be positive')\n",
    "        else:\n",
    "            self._radius = value\n",
    "    \n",
    "    # This is a property and hence not callable\n",
    "    # Returns the number of vertices. Same as self.edges\n",
    "    # Value cannot be assigned to vertices since we didn't implement setter\n",
    "    @property\n",
    "    def vertices(self):\n",
    "        return self.edges\n",
    "    \n",
    "    # Calculates the interior angle of the polygon\n",
    "    def interior_angle(self):\n",
    "        if self.edges not in self.interior_angle_cache:\n",
    "            #print('Calculating...')\n",
    "            angle = (self.edges - 2) * (180/self.edges)\n",
    "            self.interior_angle_cache[self.edges] = angle\n",
    "        return self.interior_angle_cache[self.edges]\n",
    "    \n",
    "    # Calculates the edge length\n",
    "    # All sides have the same length\n",
    "    def edge_length(self):\n",
    "        if (self.radius, self.edges) not in self.edge_length_cache:\n",
    "            #print('Calculating...')\n",
    "            length = (2 * self.radius) * (math.sin(math.pi/self.edges))\n",
    "            self.edge_length_cache[(self.radius, self.edges)] = length\n",
    "        return self.edge_length_cache[(self.radius, self.edges)]\n",
    "    \n",
    "    # Calculates area of the polygon\n",
    "    def area(self):\n",
    "        a = self.radius * math.cos(math.pi / self.edges)\n",
    "        s = self.edge_length()\n",
    "        return (self.edges * s * a) / 2\n",
    "    \n",
    "    # Calculates perimeter of the polygon\n",
    "    def perimeter(self):\n",
    "        s = self.edge_length()\n",
    "        return self.edges * s\n",
    "    \n",
    "    # Equality implementation\n",
    "    # Can compare only Polygons\n",
    "    # Polygons are said to be equal if they have same number of vertices and same circumradius\n",
    "    def __eq__(self, other):\n",
    "        if isinstance(other, Polygon):\n",
    "            return self.edges == other.edges and self.radius == other.radius\n",
    "        else:\n",
    "            raise TypeError('Incompatble type for comparision. Can only compare with another Polygon')\n",
    "            \n",
    "    # '>' operator implementation\n",
    "    # Polygons are compared based on the number of vertices\n",
    "    def __gt__(self, other):\n",
    "        if isinstance(other, Polygon):\n",
    "            return self.edges > other.edges\n",
    "        else:\n",
    "            raise TypeError('Incompatble type for comparision. Can only compare with another Polygon')\n",
    "            \n",
    "    # Representation of Polygon object\n",
    "    def __repr__(self):\n",
    "        return f'{self.__class__.__name__}(edges={self.edges}, radius={self.radius})'"
   ]
  },
  {
   "cell_type": "markdown",
   "metadata": {},
   "source": [
    "## Fully Completed Polygons Class (Sequence Type)"
   ]
  },
  {
   "cell_type": "code",
   "execution_count": 2,
   "metadata": {},
   "outputs": [],
   "source": [
    "# All imports go here\n",
    "from functools import reduce\n",
    "\n",
    "# Polygons class recieves the number of edges of largest polygon it will contain\n",
    "# It contains all the polygons starting from 3 edges to the number of edges passed\n",
    "class Polygons:\n",
    "    \n",
    "    # Initialisation goes here\n",
    "    def __init__(self, number, common_radius):\n",
    "        if not isinstance(number, int):\n",
    "            raise TypeError('Unsupported type for the number of edges for the largest polygon')\n",
    "        elif number < 3:\n",
    "            raise ValueError('Largest Polygon should have atleast 3 edges')\n",
    "        self._radius = common_radius\n",
    "        self._polygons = [Polygon(edge, self._radius) for edge in range(3,number+1)]\n",
    "    \n",
    "    # Calculates the most efficient polygon based on the area to perimeter ratio\n",
    "    def efficient_polygon(self):\n",
    "        return reduce(Polygons._efficient, self._polygons)\n",
    "        \n",
    "    # Static methods can only be called by the class\n",
    "    # This is a helper function for efficient_polygon method\n",
    "    @staticmethod    \n",
    "    def _efficient(polygon1, polygon2):\n",
    "        polygon1_efficiency = polygon1.area() / polygon1.perimeter()\n",
    "        polygon2_efficiency = polygon2.area() / polygon2.perimeter()\n",
    "        return polygon1 if polygon1_efficiency > polygon2_efficiency else polygon2\n",
    "    \n",
    "    # Sequencing the class begins from here\n",
    "    # Returns the total number of polygons present\n",
    "    def __len__(self):\n",
    "        return len(self._polygons)\n",
    "    \n",
    "    # Makes the Polygons class iterable and indexable thus making it a sequence\n",
    "    def __getitem__(self, index):\n",
    "        return self._polygons[index]\n",
    "    \n",
    "    # Representation for the polygons class        \n",
    "    def __repr__(self):\n",
    "        all_polygons = ', '.join(str(polygon) for polygon in self._polygons)\n",
    "        return f'{self.__class__.__name__}({all_polygons})'"
   ]
  },
  {
   "cell_type": "code",
   "execution_count": 40,
   "metadata": {},
   "outputs": [],
   "source": [
    "p = Polygon(4,1)"
   ]
  },
  {
   "cell_type": "code",
   "execution_count": 41,
   "metadata": {},
   "outputs": [
    {
     "data": {
      "text/plain": [
       "Polygon(edges=4, radius=1)"
      ]
     },
     "execution_count": 41,
     "metadata": {},
     "output_type": "execute_result"
    }
   ],
   "source": [
    "p"
   ]
  },
  {
   "cell_type": "code",
   "execution_count": 42,
   "metadata": {},
   "outputs": [
    {
     "name": "stdout",
     "output_type": "stream",
     "text": [
      "Calculating...\n"
     ]
    },
    {
     "data": {
      "text/plain": [
       "90.0"
      ]
     },
     "execution_count": 42,
     "metadata": {},
     "output_type": "execute_result"
    }
   ],
   "source": [
    "p.interior_angle()"
   ]
  },
  {
   "cell_type": "code",
   "execution_count": 43,
   "metadata": {
    "scrolled": true
   },
   "outputs": [
    {
     "data": {
      "text/plain": [
       "90.0"
      ]
     },
     "execution_count": 43,
     "metadata": {},
     "output_type": "execute_result"
    }
   ],
   "source": [
    "p.interior_angle()"
   ]
  },
  {
   "cell_type": "code",
   "execution_count": 44,
   "metadata": {},
   "outputs": [],
   "source": [
    "p.edges = 3"
   ]
  },
  {
   "cell_type": "code",
   "execution_count": 45,
   "metadata": {},
   "outputs": [
    {
     "name": "stdout",
     "output_type": "stream",
     "text": [
      "Calculating...\n"
     ]
    },
    {
     "data": {
      "text/plain": [
       "60.0"
      ]
     },
     "execution_count": 45,
     "metadata": {},
     "output_type": "execute_result"
    }
   ],
   "source": [
    "p.interior_angle()"
   ]
  },
  {
   "cell_type": "code",
   "execution_count": 46,
   "metadata": {
    "scrolled": true
   },
   "outputs": [
    {
     "data": {
      "text/plain": [
       "60.0"
      ]
     },
     "execution_count": 46,
     "metadata": {},
     "output_type": "execute_result"
    }
   ],
   "source": [
    "p.interior_angle()"
   ]
  },
  {
   "cell_type": "code",
   "execution_count": 47,
   "metadata": {},
   "outputs": [],
   "source": [
    "p.radius = 10"
   ]
  },
  {
   "cell_type": "code",
   "execution_count": 48,
   "metadata": {},
   "outputs": [
    {
     "data": {
      "text/plain": [
       "60.0"
      ]
     },
     "execution_count": 48,
     "metadata": {},
     "output_type": "execute_result"
    }
   ],
   "source": [
    "p.interior_angle()"
   ]
  },
  {
   "cell_type": "code",
   "execution_count": 49,
   "metadata": {},
   "outputs": [
    {
     "name": "stdout",
     "output_type": "stream",
     "text": [
      "Calculating...\n"
     ]
    },
    {
     "data": {
      "text/plain": [
       "17.32050807568877"
      ]
     },
     "execution_count": 49,
     "metadata": {},
     "output_type": "execute_result"
    }
   ],
   "source": [
    "p.edge_length()"
   ]
  },
  {
   "cell_type": "code",
   "execution_count": 50,
   "metadata": {},
   "outputs": [
    {
     "data": {
      "text/plain": [
       "17.32050807568877"
      ]
     },
     "execution_count": 50,
     "metadata": {},
     "output_type": "execute_result"
    }
   ],
   "source": [
    "p.edge_length()"
   ]
  },
  {
   "cell_type": "code",
   "execution_count": 51,
   "metadata": {},
   "outputs": [],
   "source": [
    "p.radius = 1"
   ]
  },
  {
   "cell_type": "code",
   "execution_count": 52,
   "metadata": {},
   "outputs": [
    {
     "name": "stdout",
     "output_type": "stream",
     "text": [
      "Calculating...\n"
     ]
    },
    {
     "data": {
      "text/plain": [
       "1.7320508075688772"
      ]
     },
     "execution_count": 52,
     "metadata": {},
     "output_type": "execute_result"
    }
   ],
   "source": [
    "p.edge_length()"
   ]
  },
  {
   "cell_type": "code",
   "execution_count": 53,
   "metadata": {},
   "outputs": [
    {
     "data": {
      "text/plain": [
       "1.7320508075688772"
      ]
     },
     "execution_count": 53,
     "metadata": {},
     "output_type": "execute_result"
    }
   ],
   "source": [
    "p.edge_length()"
   ]
  },
  {
   "cell_type": "code",
   "execution_count": 35,
   "metadata": {},
   "outputs": [],
   "source": [
    "import math\n",
    "def test_Polygon():\n",
    "    \n",
    "    # Absolute and relative tolerance for math.isclose method\n",
    "    abs_tolerance = 0.0001\n",
    "    rel_tolerance = 0.0001\n",
    "    # Edges and radius of the 1st test Polygon\n",
    "    n = 3\n",
    "    r = 1\n",
    "    \n",
    "    # Creating the test Polygon\n",
    "    p = Polygon(n,r)\n",
    "    \n",
    "    # All the tests for the 1st Polygon go here\n",
    "    assert str(p) == f'Polygon(edges={n}, radius={r})', (f'Actual : {str(p)} ;'\n",
    "                                                         f'Expected : Polygon(edges={n}, radius={r})')\n",
    "    assert p.vertices == n, f'Actual : {p.vertices} ; Expected : {n}'\n",
    "    assert p.edges == n, f'Actual : {p.edges} ; Expected : {n}'\n",
    "    assert p.radius == r, f'Actual : {p.radius} ; Expected : {r}'\n",
    "    assert p.interior_angle() == 60, f'Actual : {p.interior_angle()} ; Expected : 60'\n",
    "    \n",
    "    # Edges and radius for the 2nd test Polygon\n",
    "    n = 4\n",
    "    r = 1\n",
    "    \n",
    "    # Creating the 2nd test Polygon\n",
    "    p = Polygon(n,r)\n",
    "    \n",
    "    # All the tests for the 2nd Polygon go here\n",
    "    assert p.interior_angle() == 90, f'Actual : {p.interior_angle()} ; Expected : 90'\n",
    "    assert math.isclose(p.area(),\n",
    "                        2,\n",
    "                        rel_tol=rel_tolerance,\n",
    "                        abs_tol=abs_tolerance), f'Actual : {p.area()} ; Expected : 2'\n",
    "    assert math.isclose(p.edge_length(), math.sqrt(2),\n",
    "                       rel_tol=rel_tolerance,\n",
    "                       abs_tol=abs_tolerance), (f'actual: {p.edge_length()},'\n",
    "                                          f' expected: {math.sqrt(2)}')\n",
    "    \n",
    "    assert math.isclose(p.perimeter(), 4 * math.sqrt(2),\n",
    "                       rel_tol=rel_tolerance,\n",
    "                       abs_tol=abs_tolerance), (f'actual: {p.perimeter()},'\n",
    "                                          f' expected: {4 * math.sqrt(2)}')\n",
    "    \n",
    "    p1 = Polygon(3, 10)\n",
    "    p2 = Polygon(10, 10)\n",
    "    p3 = Polygon(15, 10)\n",
    "    p4 = Polygon(15, 100)\n",
    "    p5 = Polygon(15, 100)\n",
    "    \n",
    "    assert p2 > p1\n",
    "    assert p2 < p3\n",
    "    assert p3 != p4\n",
    "    assert p1 != p4\n",
    "    assert p4 == p5"
   ]
  },
  {
   "cell_type": "code",
   "execution_count": 36,
   "metadata": {},
   "outputs": [],
   "source": [
    "test_Polygon()"
   ]
  },
  {
   "cell_type": "code",
   "execution_count": null,
   "metadata": {},
   "outputs": [],
   "source": []
  }
 ],
 "metadata": {
  "kernelspec": {
   "display_name": "Python 3",
   "language": "python",
   "name": "python3"
  },
  "language_info": {
   "codemirror_mode": {
    "name": "ipython",
    "version": 3
   },
   "file_extension": ".py",
   "mimetype": "text/x-python",
   "name": "python",
   "nbconvert_exporter": "python",
   "pygments_lexer": "ipython3",
   "version": "3.8.3"
  }
 },
 "nbformat": 4,
 "nbformat_minor": 4
}
